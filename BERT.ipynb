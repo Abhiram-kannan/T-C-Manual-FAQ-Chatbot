{
  "nbformat": 4,
  "nbformat_minor": 0,
  "metadata": {
    "colab": {
      "provenance": [],
      "authorship_tag": "ABX9TyPbm8JZS+8n+t/+srH2Fu4X",
      "include_colab_link": true
    },
    "kernelspec": {
      "name": "python3",
      "display_name": "Python 3"
    },
    "language_info": {
      "name": "python"
    }
  },
  "cells": [
    {
      "cell_type": "markdown",
      "metadata": {
        "id": "view-in-github",
        "colab_type": "text"
      },
      "source": [
        "<a href=\"https://colab.research.google.com/github/Abhiram-kannan/T-C-Manual-FAQ-Chatbot/blob/main/BERT.ipynb\" target=\"_parent\"><img src=\"https://colab.research.google.com/assets/colab-badge.svg\" alt=\"Open In Colab\"/></a>"
      ]
    },
    {
      "cell_type": "code",
      "execution_count": null,
      "metadata": {
        "id": "xMXfQjhDOPys"
      },
      "outputs": [],
      "source": [
        "!pip install torch\n",
        "!pip install transformers\n",
        "\n",
        "from transformers import BertTokenizer, BertForQuestionAnswering"
      ]
    },
    {
      "cell_type": "code",
      "source": [
        "from transformers import AutoTokenizer, AutoModelForQuestionAnswering\n",
        "\n",
        "tokenizer = AutoTokenizer.from_pretrained(\"google-bert/bert-large-uncased-whole-word-masking-finetuned-squad\")\n",
        "model = AutoModelForQuestionAnswering.from_pretrained(\"google-bert/bert-large-uncased-whole-word-masking-finetuned-squad\")"
      ],
      "metadata": {
        "id": "kzJxPd15Oaft"
      },
      "execution_count": null,
      "outputs": []
    },
    {
      "cell_type": "code",
      "source": [
        "def answer_question(question, context):\n",
        "  \"\"\"\n",
        "  Answers a question given a context using the pre-trained model.\n",
        "\n",
        "  Args:\n",
        "      question (str): The question to be answered.\n",
        "      context (str): The context in which to find the answer.\n",
        "\n",
        "  Returns:\n",
        "      str: The answer to the question, or an empty string if no answer is found.\n",
        "  \"\"\"\n",
        "\n",
        "  inputs = tokenizer(question, context, return_tensors=\"pt\")\n",
        "\n",
        "  outputs = model(**inputs)\n",
        "  start_logits = outputs.start_logits.squeeze().tolist()\n",
        "  end_logits = outputs.end_logits.squeeze().tolist()\n",
        "\n",
        "  best_start_index = max(range(len(start_logits)), key=start_logits.__getitem__)\n",
        "  best_end_index = max(range(len(end_logits)), key=end_logits.__getitem__)\n",
        "\n",
        "  if start_logits[best_start_index] < 0.1 or end_logits[best_end_index] < 0.1:\n",
        "    return \"\"\n",
        "\n",
        "  answer = tokenizer.convert_ids_to_tokens(inputs[\"input_ids\"][0][best_start_index:best_end_index+1])\n",
        "\n",
        "  answer = \" \".join(answer)\n",
        "\n",
        "  return answer\n",
        "\n",
        "while True:\n",
        "  context= \"\"\"\n",
        "  Berlin, the vibrant capital of Germany, pulsates with a unique blend of history, culture, and modern energy. Its streets whisper tales of resilience, from the scars of the Berlin Wall to the iconic Brandenburg Gate, a symbol of reunification. Museums like the Deutsches Historisches Museum offer an immersive journey into the country's past, while contemporary art galleries showcase the dynamism of the present.\n",
        "  \"\"\"\n",
        "  question = input(\"Ask your question (or 'q' to exit): \")\n",
        "\n",
        "  if question.lower() == 'q':\n",
        "    print(\"Exiting question answering session.\")\n",
        "    break\n",
        "\n",
        "  if not context:\n",
        "    context = input(\"Provide context (optional, press Enter if not needed): \")\n",
        "\n",
        "  answer = answer_question(question, context)\n",
        "  if answer:\n",
        "    print(\"Answer:\", answer)\n",
        "  else:\n",
        "    print(\"No answer found in the provided context.\")"
      ],
      "metadata": {
        "colab": {
          "base_uri": "https://localhost:8080/"
        },
        "id": "3ejKQZ__OrhH",
        "outputId": "4eedce9a-cd45-4321-9b77-a8e39841a593"
      },
      "execution_count": 3,
      "outputs": [
        {
          "output_type": "stream",
          "name": "stdout",
          "text": [
            "Ask your question (or 'q' to exit): what is germany?\n",
            "No answer found in the provided context.\n",
            "Ask your question (or 'q' to exit): what is the capital of germany?\n",
            "Answer: berlin\n",
            "Ask your question (or 'q' to exit): Name a museum in germany\n",
            "Answer: deutsche ##s his ##tori ##sche ##s museum\n",
            "Ask your question (or 'q' to exit): q\n",
            "Exiting question answering session.\n"
          ]
        }
      ]
    }
  ]
}